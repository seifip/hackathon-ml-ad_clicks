{
  "cells": [
    {
      "cell_type": "code",
      "source": [
        "import pandas as pd\n",
        "import numpy as np\n",
        "from pathlib import Path\n",
        "from catboost import CatBoostClassifier\n",
        "from sklearn.model_selection import train_test_split"
      ],
      "outputs": [],
      "execution_count": 33,
      "metadata": {
        "collapsed": true
      }
    },
    {
      "cell_type": "markdown",
      "source": [
        "[CatBoost](https://tech.yandex.com/catboost/) package has been recently open-sourced by Yandex. It can handle categorical variables in the original form."
      ],
      "metadata": {}
    },
    {
      "cell_type": "code",
      "source": [
        "input_dir = Path('./input')\n",
        "train = pd.read_csv(input_dir/\"train.csv\")\n",
        "test = pd.read_csv(input_dir/\"test.csv\")"
      ],
      "outputs": [],
      "execution_count": 5,
      "metadata": {
        "collapsed": true
      }
    },
    {
      "cell_type": "code",
      "source": [
        "train.head()"
      ],
      "outputs": [
        {
          "output_type": "execute_result",
          "execution_count": 6,
          "data": {
            "text/plain": [
              "          ID             datetime     siteid  offerid  category  merchant  \\\n",
              "0  IDsrk7SoW  2017-01-14 09:42:09  4709696.0   887235     17714  20301556   \n",
              "1  IDmMSxHur  2017-01-18 17:50:53  5189467.0   178235     21407   9434818   \n",
              "2  IDVLNN0Ut  2017-01-11 12:46:49    98480.0   518539     25085   2050923   \n",
              "3  ID32T6wwQ  2017-01-17 10:18:43  8896401.0   390352     40339  72089744   \n",
              "4  IDqUShzMg  2017-01-14 16:02:33  5635120.0   472937     12052  39507200   \n",
              "\n",
              "  countrycode        browserid    devid  click  \n",
              "0           e          Firefox      NaN      0  \n",
              "1           b  Mozilla Firefox  Desktop      0  \n",
              "2           a             Edge      NaN      0  \n",
              "3           c          Firefox   Mobile      0  \n",
              "4           d  Mozilla Firefox  Desktop      0  "
            ],
            "text/html": [
              "<div>\n",
              "<style>\n",
              "    .dataframe thead tr:only-child th {\n",
              "        text-align: right;\n",
              "    }\n",
              "\n",
              "    .dataframe thead th {\n",
              "        text-align: left;\n",
              "    }\n",
              "\n",
              "    .dataframe tbody tr th {\n",
              "        vertical-align: top;\n",
              "    }\n",
              "</style>\n",
              "<table border=\"1\" class=\"dataframe\">\n",
              "  <thead>\n",
              "    <tr style=\"text-align: right;\">\n",
              "      <th></th>\n",
              "      <th>ID</th>\n",
              "      <th>datetime</th>\n",
              "      <th>siteid</th>\n",
              "      <th>offerid</th>\n",
              "      <th>category</th>\n",
              "      <th>merchant</th>\n",
              "      <th>countrycode</th>\n",
              "      <th>browserid</th>\n",
              "      <th>devid</th>\n",
              "      <th>click</th>\n",
              "    </tr>\n",
              "  </thead>\n",
              "  <tbody>\n",
              "    <tr>\n",
              "      <th>0</th>\n",
              "      <td>IDsrk7SoW</td>\n",
              "      <td>2017-01-14 09:42:09</td>\n",
              "      <td>4709696.0</td>\n",
              "      <td>887235</td>\n",
              "      <td>17714</td>\n",
              "      <td>20301556</td>\n",
              "      <td>e</td>\n",
              "      <td>Firefox</td>\n",
              "      <td>NaN</td>\n",
              "      <td>0</td>\n",
              "    </tr>\n",
              "    <tr>\n",
              "      <th>1</th>\n",
              "      <td>IDmMSxHur</td>\n",
              "      <td>2017-01-18 17:50:53</td>\n",
              "      <td>5189467.0</td>\n",
              "      <td>178235</td>\n",
              "      <td>21407</td>\n",
              "      <td>9434818</td>\n",
              "      <td>b</td>\n",
              "      <td>Mozilla Firefox</td>\n",
              "      <td>Desktop</td>\n",
              "      <td>0</td>\n",
              "    </tr>\n",
              "    <tr>\n",
              "      <th>2</th>\n",
              "      <td>IDVLNN0Ut</td>\n",
              "      <td>2017-01-11 12:46:49</td>\n",
              "      <td>98480.0</td>\n",
              "      <td>518539</td>\n",
              "      <td>25085</td>\n",
              "      <td>2050923</td>\n",
              "      <td>a</td>\n",
              "      <td>Edge</td>\n",
              "      <td>NaN</td>\n",
              "      <td>0</td>\n",
              "    </tr>\n",
              "    <tr>\n",
              "      <th>3</th>\n",
              "      <td>ID32T6wwQ</td>\n",
              "      <td>2017-01-17 10:18:43</td>\n",
              "      <td>8896401.0</td>\n",
              "      <td>390352</td>\n",
              "      <td>40339</td>\n",
              "      <td>72089744</td>\n",
              "      <td>c</td>\n",
              "      <td>Firefox</td>\n",
              "      <td>Mobile</td>\n",
              "      <td>0</td>\n",
              "    </tr>\n",
              "    <tr>\n",
              "      <th>4</th>\n",
              "      <td>IDqUShzMg</td>\n",
              "      <td>2017-01-14 16:02:33</td>\n",
              "      <td>5635120.0</td>\n",
              "      <td>472937</td>\n",
              "      <td>12052</td>\n",
              "      <td>39507200</td>\n",
              "      <td>d</td>\n",
              "      <td>Mozilla Firefox</td>\n",
              "      <td>Desktop</td>\n",
              "      <td>0</td>\n",
              "    </tr>\n",
              "  </tbody>\n",
              "</table>\n",
              "</div>"
            ]
          },
          "metadata": {}
        }
      ],
      "execution_count": 6,
      "metadata": {
        "collapsed": false
      }
    },
    {
      "cell_type": "code",
      "source": [
        "test.head()"
      ],
      "outputs": [
        {
          "output_type": "execute_result",
          "execution_count": 7,
          "data": {
            "text/plain": [
              "        ID             datetime     siteid  offerid  category  merchant  \\\n",
              "0  IDFDJVI  2017-01-22 09:55:48   755610.0   808980     17714  26391770   \n",
              "1  IDNWkTQ  2017-01-22 03:54:39  3714899.0   280355     12052  39507200   \n",
              "2  ID9pRmM  2017-01-21 10:25:50  4378333.0   930819     30580  46148550   \n",
              "3  IDHaQaj  2017-01-22 14:45:53  1754730.0   612234     11837   8837581   \n",
              "4  IDT2CrF  2017-01-22 09:34:07  5299909.0   524289     45620  31388981   \n",
              "\n",
              "  countrycode        browserid    devid  \n",
              "0           b  Mozilla Firefox  Desktop  \n",
              "1           b             Edge   Tablet  \n",
              "2           e  Mozilla Firefox      NaN  \n",
              "3           b             Edge   Tablet  \n",
              "4           b          Mozilla      NaN  "
            ],
            "text/html": [
              "<div>\n",
              "<style>\n",
              "    .dataframe thead tr:only-child th {\n",
              "        text-align: right;\n",
              "    }\n",
              "\n",
              "    .dataframe thead th {\n",
              "        text-align: left;\n",
              "    }\n",
              "\n",
              "    .dataframe tbody tr th {\n",
              "        vertical-align: top;\n",
              "    }\n",
              "</style>\n",
              "<table border=\"1\" class=\"dataframe\">\n",
              "  <thead>\n",
              "    <tr style=\"text-align: right;\">\n",
              "      <th></th>\n",
              "      <th>ID</th>\n",
              "      <th>datetime</th>\n",
              "      <th>siteid</th>\n",
              "      <th>offerid</th>\n",
              "      <th>category</th>\n",
              "      <th>merchant</th>\n",
              "      <th>countrycode</th>\n",
              "      <th>browserid</th>\n",
              "      <th>devid</th>\n",
              "    </tr>\n",
              "  </thead>\n",
              "  <tbody>\n",
              "    <tr>\n",
              "      <th>0</th>\n",
              "      <td>IDFDJVI</td>\n",
              "      <td>2017-01-22 09:55:48</td>\n",
              "      <td>755610.0</td>\n",
              "      <td>808980</td>\n",
              "      <td>17714</td>\n",
              "      <td>26391770</td>\n",
              "      <td>b</td>\n",
              "      <td>Mozilla Firefox</td>\n",
              "      <td>Desktop</td>\n",
              "    </tr>\n",
              "    <tr>\n",
              "      <th>1</th>\n",
              "      <td>IDNWkTQ</td>\n",
              "      <td>2017-01-22 03:54:39</td>\n",
              "      <td>3714899.0</td>\n",
              "      <td>280355</td>\n",
              "      <td>12052</td>\n",
              "      <td>39507200</td>\n",
              "      <td>b</td>\n",
              "      <td>Edge</td>\n",
              "      <td>Tablet</td>\n",
              "    </tr>\n",
              "    <tr>\n",
              "      <th>2</th>\n",
              "      <td>ID9pRmM</td>\n",
              "      <td>2017-01-21 10:25:50</td>\n",
              "      <td>4378333.0</td>\n",
              "      <td>930819</td>\n",
              "      <td>30580</td>\n",
              "      <td>46148550</td>\n",
              "      <td>e</td>\n",
              "      <td>Mozilla Firefox</td>\n",
              "      <td>NaN</td>\n",
              "    </tr>\n",
              "    <tr>\n",
              "      <th>3</th>\n",
              "      <td>IDHaQaj</td>\n",
              "      <td>2017-01-22 14:45:53</td>\n",
              "      <td>1754730.0</td>\n",
              "      <td>612234</td>\n",
              "      <td>11837</td>\n",
              "      <td>8837581</td>\n",
              "      <td>b</td>\n",
              "      <td>Edge</td>\n",
              "      <td>Tablet</td>\n",
              "    </tr>\n",
              "    <tr>\n",
              "      <th>4</th>\n",
              "      <td>IDT2CrF</td>\n",
              "      <td>2017-01-22 09:34:07</td>\n",
              "      <td>5299909.0</td>\n",
              "      <td>524289</td>\n",
              "      <td>45620</td>\n",
              "      <td>31388981</td>\n",
              "      <td>b</td>\n",
              "      <td>Mozilla</td>\n",
              "      <td>NaN</td>\n",
              "    </tr>\n",
              "  </tbody>\n",
              "</table>\n",
              "</div>"
            ]
          },
          "metadata": {}
        }
      ],
      "execution_count": 7,
      "metadata": {
        "collapsed": false
      }
    },
    {
      "cell_type": "code",
      "source": [
        "# check missing values per column\n",
        "train.isnull().sum(axis=0) / train.shape[0]"
      ],
      "outputs": [
        {
          "output_type": "execute_result",
          "execution_count": 8,
          "data": {
            "text/plain": [
              "ID             0.000000\n",
              "datetime       0.000000\n",
              "siteid         0.099896\n",
              "offerid        0.000000\n",
              "category       0.000000\n",
              "merchant       0.000000\n",
              "countrycode    0.000000\n",
              "browserid      0.050118\n",
              "devid          0.149969\n",
              "click          0.000000\n",
              "dtype: float64"
            ]
          },
          "metadata": {}
        }
      ],
      "execution_count": 8,
      "metadata": {
        "collapsed": false
      }
    },
    {
      "cell_type": "code",
      "source": [
        "# impute missing values\n",
        "train['siteid'].fillna(-999, inplace=True)\n",
        "test['siteid'].fillna(-999, inplace=True)\n",
        "\n",
        "train['browserid'].fillna(\"None\", inplace=True)\n",
        "test['browserid'].fillna(\"None\", inplace=True)\n",
        "\n",
        "train['devid'].fillna(\"None\", inplace=True)\n",
        "test['devid'].fillna(\"None\", inplace=True)"
      ],
      "outputs": [],
      "execution_count": 9,
      "metadata": {
        "collapsed": false
      }
    },
    {
      "cell_type": "code",
      "source": [
        "# set datetime\n",
        "train['datetime'] = pd.to_datetime(train['datetime'])\n",
        "test['datetime'] = pd.to_datetime(test['datetime'])"
      ],
      "outputs": [],
      "execution_count": 10,
      "metadata": {
        "collapsed": true
      }
    },
    {
      "cell_type": "code",
      "source": [
        "# create datetime variable\n",
        "train['tweekday'] = train['datetime'].dt.weekday\n",
        "train['thour'] = train['datetime'].dt.hour\n",
        "train['tminute'] = train['datetime'].dt.minute\n",
        "\n",
        "test['tweekday'] = test['datetime'].dt.weekday\n",
        "test['thour'] = test['datetime'].dt.hour\n",
        "test['tminute'] = test['datetime'].dt.minute"
      ],
      "outputs": [],
      "execution_count": 11,
      "metadata": {
        "collapsed": true
      }
    },
    {
      "cell_type": "code",
      "source": [
        "cols = ['siteid','offerid','category','merchant']\n",
        "\n",
        "for x in cols:\n",
        "    train[x] = train[x].astype('object')\n",
        "    test[x] = test[x].astype('object')"
      ],
      "outputs": [],
      "execution_count": 12,
      "metadata": {
        "collapsed": true
      }
    },
    {
      "cell_type": "code",
      "source": [
        "cols_to_use = list(set(train.columns) - set(['ID','datetime','click']))\n",
        "\n",
        "# catboost accepts categorical variables as indexes\n",
        "cat_cols = [0,1,2,4,6,7,8]"
      ],
      "outputs": [],
      "execution_count": 13,
      "metadata": {
        "collapsed": false
      }
    },
    {
      "cell_type": "markdown",
      "source": [
        "### CatBoost Model"
      ],
      "metadata": {}
    },
    {
      "cell_type": "code",
      "source": [
        "# modeling on sampled (1e6) rows\n",
        "rows = np.random.choice(train.index.values, int(1e6))\n",
        "sampled_train = train.loc[rows]"
      ],
      "outputs": [],
      "execution_count": 14,
      "metadata": {
        "collapsed": false
      }
    },
    {
      "cell_type": "code",
      "source": [
        "trainX = sampled_train[cols_to_use]\n",
        "trainY = sampled_train['click']"
      ],
      "outputs": [],
      "execution_count": 15,
      "metadata": {
        "collapsed": true
      }
    },
    {
      "cell_type": "code",
      "source": [
        "X_train, X_test, y_train, y_test = train_test_split(trainX, trainY, test_size = 0.5)\n",
        "model = CatBoostClassifier(depth=15, iterations=10, learning_rate=0.1, eval_metric='AUC', random_seed=1)"
      ],
      "outputs": [],
      "execution_count": 16,
      "metadata": {
        "collapsed": false
      }
    },
    {
      "cell_type": "code",
      "source": [
        "model.fit(X_train\n",
        "          ,y_train\n",
        "          ,cat_features=cat_cols\n",
        "          ,eval_set = (X_test, y_test)\n",
        "          ,use_best_model = True\n",
        "         )"
      ],
      "outputs": [
        {
          "output_type": "execute_result",
          "execution_count": 17,
          "data": {
            "text/plain": [
              "<catboost.core.CatBoostClassifier at 0x251c05f07b8>"
            ]
          },
          "metadata": {}
        }
      ],
      "execution_count": 17,
      "metadata": {
        "collapsed": false,
        "scrolled": false
      }
    },
    {
      "cell_type": "code",
      "source": [
        "#initial: 0.98294199999999998\n",
        "model.score(X_test, y_test)"
      ],
      "outputs": [
        {
          "output_type": "execute_result",
          "execution_count": 28,
          "data": {
            "text/plain": [
              "0.98294199999999998"
            ]
          },
          "metadata": {}
        }
      ],
      "execution_count": 28,
      "metadata": {
        "collapsed": false,
        "outputHidden": false,
        "inputHidden": false
      }
    },
    {
      "cell_type": "code",
      "source": [
        "pred = model.predict_proba(test[cols_to_use])[:,1]"
      ],
      "outputs": [],
      "execution_count": 18,
      "metadata": {
        "collapsed": false
      }
    },
    {
      "cell_type": "code",
      "source": [
        "output_dir = Path('./output')\n",
        "sub = pd.DataFrame({'ID':test['ID'],'click':pred})\n",
        "sub.to_csv(output_dir/'cb_sub1.csv',index=False)"
      ],
      "outputs": [],
      "execution_count": 22,
      "metadata": {
        "collapsed": true
      }
    }
  ],
  "metadata": {
    "kernelspec": {
      "name": "python3",
      "language": "python",
      "display_name": "Python 3"
    },
    "language_info": {
      "name": "python",
      "version": "3.6.0",
      "mimetype": "text/x-python",
      "codemirror_mode": {
        "name": "ipython",
        "version": 3
      },
      "pygments_lexer": "ipython3",
      "nbconvert_exporter": "python",
      "file_extension": ".py"
    },
    "kernel_info": {
      "name": "python3"
    }
  },
  "nbformat": 4,
  "nbformat_minor": 2
}